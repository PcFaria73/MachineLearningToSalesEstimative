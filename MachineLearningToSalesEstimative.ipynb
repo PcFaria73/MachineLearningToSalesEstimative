{
 "cells": [
  {
   "cell_type": "code",
   "execution_count": 1,
   "id": "82721338",
   "metadata": {},
   "outputs": [],
   "source": [
    "import pandas as pd\n",
    "import matplotlib.pyplot as plt\n",
    "import numpy as np"
   ]
  },
  {
   "cell_type": "code",
   "execution_count": 2,
   "id": "79e49f4f",
   "metadata": {},
   "outputs": [],
   "source": [
    "# Importing Sales Db\n",
    "base = pd.read_excel(\"Investimento_x_Venda.xlsx\")"
   ]
  },
  {
   "cell_type": "code",
   "execution_count": 3,
   "id": "781b015e",
   "metadata": {},
   "outputs": [
    {
     "data": {
      "text/html": [
       "<div>\n",
       "<style scoped>\n",
       "    .dataframe tbody tr th:only-of-type {\n",
       "        vertical-align: middle;\n",
       "    }\n",
       "\n",
       "    .dataframe tbody tr th {\n",
       "        vertical-align: top;\n",
       "    }\n",
       "\n",
       "    .dataframe thead th {\n",
       "        text-align: right;\n",
       "    }\n",
       "</style>\n",
       "<table border=\"1\" class=\"dataframe\">\n",
       "  <thead>\n",
       "    <tr style=\"text-align: right;\">\n",
       "      <th></th>\n",
       "      <th>Investimento em marketing</th>\n",
       "      <th>Venda Qtd</th>\n",
       "    </tr>\n",
       "  </thead>\n",
       "  <tbody>\n",
       "    <tr>\n",
       "      <th>0</th>\n",
       "      <td>20</td>\n",
       "      <td>118</td>\n",
       "    </tr>\n",
       "    <tr>\n",
       "      <th>1</th>\n",
       "      <td>25</td>\n",
       "      <td>142</td>\n",
       "    </tr>\n",
       "    <tr>\n",
       "      <th>2</th>\n",
       "      <td>40</td>\n",
       "      <td>225</td>\n",
       "    </tr>\n",
       "    <tr>\n",
       "      <th>3</th>\n",
       "      <td>52</td>\n",
       "      <td>260</td>\n",
       "    </tr>\n",
       "    <tr>\n",
       "      <th>4</th>\n",
       "      <td>67</td>\n",
       "      <td>295</td>\n",
       "    </tr>\n",
       "  </tbody>\n",
       "</table>\n",
       "</div>"
      ],
      "text/plain": [
       "   Investimento em marketing  Venda Qtd\n",
       "0                         20        118\n",
       "1                         25        142\n",
       "2                         40        225\n",
       "3                         52        260\n",
       "4                         67        295"
      ]
     },
     "execution_count": 3,
     "metadata": {},
     "output_type": "execute_result"
    }
   ],
   "source": [
    "# Showing 1st lines\n",
    "base.head()\n"
   ]
  },
  {
   "cell_type": "code",
   "execution_count": 4,
   "id": "5a7c41ba",
   "metadata": {},
   "outputs": [
    {
     "data": {
      "image/png": "[encoded data removed]",
      "text/plain": [
       "<Figure size 432x288 with 1 Axes>"
      ]
     },
     "metadata": {
      "needs_background": "light"
     },
     "output_type": "display_data"
    }
   ],
   "source": [
    "# Showing data in a simple chart\n",
    "plt.scatter(base[\"Investimento em marketing\"], base[\"Venda Qtd\"])\n",
    "plt.show()"
   ]
  },
  {
   "cell_type": "code",
   "execution_count": 8,
   "id": "43d31253",
   "metadata": {},
   "outputs": [
    {
     "data": {
      "image/png": "[encoded data removed]",
      "text/plain": [
       "<Figure size 432x288 with 1 Axes>"
      ]
     },
     "metadata": {
      "needs_background": "light"
     },
     "output_type": "display_data"
    }
   ],
   "source": [
    "# Drawing a line between dots\n",
    "plt.scatter(base[\"Investimento em marketing\"], base[\"Venda Qtd\"])\n",
    "x0 = base[\"Investimento em marketing\"][0]\n",
    "y0 = base[\"Venda Qtd\"][0]\n",
    "x1 = base[\"Investimento em marketing\"][6]\n",
    "y1 = base[\"Venda Qtd\"][6]\n",
    "plt.plot([x0, x1], [y0, y1], \"r\")\n",
    "plt.show()"
   ]
  },
  {
   "cell_type": "code",
   "execution_count": null,
   "id": "a8727efc",
   "metadata": {},
   "outputs": [],
   "source": [
    "# Just showing a math rule to calculate best position find a value and stock products\n",
    "# y = ax + b"
   ]
  },
  {
   "cell_type": "code",
   "execution_count": 10,
   "id": "fe7d0578",
   "metadata": {},
   "outputs": [],
   "source": [
    "# Function to calculate a number of qtt itens \n",
    "def calculateY(row_x, row_y, x):\n",
    "    a = (row_y[1] - row_y[0]) / (row_x[1] - row_x[0])\n",
    "    b = row_y[1] - a* row_x[1]\n",
    "    y = a * x + b\n",
    "    return y"
   ]
  },
  {
   "cell_type": "code",
   "execution_count": 17,
   "id": "ee10d857",
   "metadata": {},
   "outputs": [
    {
     "name": "stdout",
     "output_type": "stream",
     "text": [
      "Qtt Itens on Stock: 339.8\n"
     ]
    }
   ],
   "source": [
    "# Example is calculate 75.000 sales to find how many itens will be on stock\n",
    "qtt = calculateY([x0, x1], [y0, y1], 75)\n",
    "print('Qtt Itens on Stock: ' + str(round(qtt,2)))"
   ]
  },
  {
   "cell_type": "code",
   "execution_count": 18,
   "id": "e05c2739",
   "metadata": {},
   "outputs": [
    {
     "data": {
      "image/png": "[encoded data removed]",
      "text/plain": [
       "<Figure size 432x288 with 1 Axes>"
      ]
     },
     "metadata": {
      "needs_background": "light"
     },
     "output_type": "display_data"
    }
   ],
   "source": [
    "# Drawing a chart with qtt itens\n",
    "plt.scatter(base[\"Investimento em marketing\"], base[\"Venda Qtd\"])\n",
    "plt.scatter(75, qtt, color = \"k\")\n",
    "x0 = base[\"Investimento em marketing\"][0]\n",
    "y0 = base[\"Venda Qtd\"][0]\n",
    "x1 = base[\"Investimento em marketing\"][6]\n",
    "y1 = base[\"Venda Qtd\"][6]\n",
    "plt.plot([x0, x1], [y0, y1], \"r\")\n",
    "plt.show()"
   ]
  },
  {
   "cell_type": "code",
   "execution_count": 19,
   "id": "0956c410",
   "metadata": {},
   "outputs": [
    {
     "data": {
      "text/plain": [
       "LinearRegression()"
      ]
     },
     "execution_count": 19,
     "metadata": {},
     "output_type": "execute_result"
    }
   ],
   "source": [
    "# Calculating number of sales on Machine Learning (scikit learn)\n",
    "# Working on Linear Regression to calculate\n",
    "# From: https://scikit-learn.org/stable/modules/linear_model.html\n",
    "\n",
    "from sklearn import linear_model\n",
    "reg = linear_model.LinearRegression()\n",
    "reg.fit(base[\"Investimento em marketing\"].values.reshape(-1, 1), base[\"Venda Qtd\"])"
   ]
  },
  {
   "cell_type": "code",
   "execution_count": 20,
   "id": "c1d09c98",
   "metadata": {},
   "outputs": [
    {
     "data": {
      "text/plain": [
       "array([3.90643623])"
      ]
     },
     "execution_count": 20,
     "metadata": {},
     "output_type": "execute_result"
    }
   ],
   "source": [
    "# Returns Angular Coef to line\n",
    "reg.coef_"
   ]
  },
  {
   "cell_type": "code",
   "execution_count": 21,
   "id": "5d8f2c57",
   "metadata": {},
   "outputs": [
    {
     "data": {
      "text/plain": [
       "49.20032351438786"
      ]
     },
     "execution_count": 21,
     "metadata": {},
     "output_type": "execute_result"
    }
   ],
   "source": [
    "# Returns Linear Coef that means where line Trace\n",
    "reg.intercept_"
   ]
  },
  {
   "cell_type": "code",
   "execution_count": 25,
   "id": "65501b8f",
   "metadata": {},
   "outputs": [
    {
     "data": {
      "image/png": "[encoded data removed]",
      "text/plain": [
       "<Figure size 432x288 with 1 Axes>"
      ]
     },
     "metadata": {
      "needs_background": "light"
     },
     "output_type": "display_data"
    }
   ],
   "source": [
    "# Bulting a New Chart With Values Intercept and Coef - Machine Learning\n",
    "plt.scatter(base[\"Investimento em marketing\"], base[\"Venda Qtd\"])\n",
    "x = np.array(base[\"Investimento em marketing\"])\n",
    "y = reg.intercept_ + x * reg.coef_\n",
    "plt.plot(x, y, \"r\")\n",
    "plt.show()"
   ]
  },
  {
   "cell_type": "code",
   "execution_count": 46,
   "id": "91097e1b",
   "metadata": {},
   "outputs": [
    {
     "name": "stdout",
     "output_type": "stream",
     "text": [
      "Qtt Itens Necessary on Sotck: [342.18304104]\n"
     ]
    }
   ],
   "source": [
    "# Solution \n",
    "# Predcting better number (Machine Learning), base 75.000\n",
    "predic_value = reg.predict([[75]])\n",
    "print('Qtt Itens Necessary on Sotck: ' + str(predic_value))"
   ]
  },
  {
   "cell_type": "code",
   "execution_count": 29,
   "id": "b6b384fd",
   "metadata": {},
   "outputs": [
    {
     "data": {
      "image/png": "[encoded data removed]",
      "text/plain": [
       "<Figure size 432x288 with 1 Axes>"
      ]
     },
     "metadata": {
      "needs_background": "light"
     },
     "output_type": "display_data"
    }
   ],
   "source": [
    "plt.scatter(base[\"Investimento em marketing\"], base[\"Venda Qtd\"])\n",
    "plt.scatter(75, predic_value[0], color = \"k\")\n",
    "x = np.array(base[\"Investimento em marketing\"])\n",
    "y = reg.intercept_ + x * reg.coef_\n",
    "plt.plot(x, y, \"r\")\n",
    "plt.show()"
   ]
  }
 ],
 "metadata": {
  "kernelspec": {
   "display_name": "Python 3 (ipykernel)",
   "language": "python",
   "name": "python3"
  },
  "language_info": {
   "codemirror_mode": {
    "name": "ipython",
    "version": 3
   },
   "file_extension": ".py",
   "mimetype": "text/x-python",
   "name": "python",
   "nbconvert_exporter": "python",
   "pygments_lexer": "ipython3",
   "version": "3.9.7"
  }
 },
 "nbformat": 4,
 "nbformat_minor": 5
}
